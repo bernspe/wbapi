{
 "cells": [
  {
   "cell_type": "code",
   "execution_count": 3,
   "metadata": {
    "collapsed": true,
    "ExecuteTime": {
     "end_time": "2023-11-11T19:30:50.363305Z",
     "start_time": "2023-11-11T19:30:50.356340Z"
    }
   },
   "outputs": [],
   "source": [
    "import json\n",
    "with open('../icf_struct/whodas12_de.json') as fp:\n",
    "    whodas = json.load(fp)\n",
    "with open('../icf_struct/icf_codes3.json') as fp:\n",
    "    icf = json.load(fp)"
   ]
  },
  {
   "cell_type": "code",
   "execution_count": 8,
   "outputs": [],
   "source": [
    "import random"
   ],
   "metadata": {
    "collapsed": false,
    "ExecuteTime": {
     "end_time": "2023-11-11T19:41:17.317277Z",
     "start_time": "2023-11-11T19:41:17.312783Z"
    }
   }
  },
  {
   "cell_type": "code",
   "execution_count": 76,
   "outputs": [
    {
     "name": "stdout",
     "output_type": "stream",
     "text": [
      "['e150', 'b850', 'd415']\n",
      "['b167', 'd630', 'd650', 'd163', 'b610']\n",
      "['e580', 'e595', 'b122', 'e525']\n",
      "['d920', 'e530', 'e235', 'd910']\n",
      "['e110', 's340']\n",
      "['b450', 'd355', 'e555', 'd175', 'd325']\n",
      "['d455', 'd230', 'e440', 'e315']\n",
      "['b435', 'b840', 'd530', 'd510']\n",
      "['d865', 'e510', 'd540']\n",
      "['e535', 'd720', 'd740', 'e330']\n",
      "['b765', 'e435', 'b735']\n",
      "['b235', 'd840', 'd855', 'e220', 'b760', 'd860', 'e510']\n"
     ]
    }
   ],
   "source": [
    "all_links = [k for k in icf.keys() if len(k)==4]\n",
    "\n",
    "def gen_art_survey(number_false_links=5,false_quote = 0.5):\n",
    "    \"\"\"\n",
    "    Generates arteficial survey data\n",
    "    :param number_false_links: how many additional faky links are provided to each whodas item\n",
    "    :param false_quote: the quote of false answers\n",
    "    :return: dataset with answers\n",
    "    \"\"\"\n",
    "    s_data={}\n",
    "    for k,v in whodas.items():\n",
    "        true_links = v['l'].split(',')\n",
    "        number_true_links=len(true_links)\n",
    "        whodas_item={}\n",
    "        l2 = all_links\n",
    "        for l in true_links:\n",
    "            if l in l2:\n",
    "                l2.remove(l)\n",
    "        false_links = random.sample(l2,k=number_false_links)\n",
    "        #set correct answers\n",
    "        for l in true_links:\n",
    "            if len(l)>2:\n",
    "                whodas_item[l]={\n",
    "                        \"belongs\": True,\n",
    "                        \"selected\": True,\n",
    "                        \"deselected\": False\n",
    "                    }\n",
    "            else:\n",
    "                true_links.remove(l)\n",
    "                number_true_links-=1\n",
    "        for l in false_links:\n",
    "            whodas_item[l]={\n",
    "                    \"belongs\": False,\n",
    "                    \"selected\": False,\n",
    "                    \"deselected\": True\n",
    "                }\n",
    "\n",
    "        # now flip for random elements to generate false answers\n",
    "        flip_links = random.sample([*false_links,*true_links],k=int(false_quote*(number_true_links+number_false_links)))\n",
    "        print(flip_links)\n",
    "        for l in flip_links:\n",
    "            whodas_item[l][\"selected\"]= not whodas_item[l]['selected']\n",
    "            whodas_item[l][\"deselected\"]= not whodas_item[l]['deselected']\n",
    "\n",
    "        s_data[k]=whodas_item\n",
    "\n",
    "    return s_data\n",
    "\n",
    "s=gen_art_survey()"
   ],
   "metadata": {
    "collapsed": false,
    "ExecuteTime": {
     "end_time": "2023-11-12T08:35:38.629497Z",
     "start_time": "2023-11-12T08:35:38.625947Z"
    }
   }
  },
  {
   "cell_type": "code",
   "execution_count": 77,
   "outputs": [
    {
     "data": {
      "text/plain": "{'1': {'d415': {'belongs': True, 'selected': False, 'deselected': True},\n  'b230': {'belongs': False, 'selected': False, 'deselected': True},\n  'e150': {'belongs': False, 'selected': True, 'deselected': False},\n  'e465': {'belongs': False, 'selected': False, 'deselected': True},\n  'b850': {'belongs': False, 'selected': True, 'deselected': False},\n  's620': {'belongs': False, 'selected': False, 'deselected': True}},\n '2': {'d620': {'belongs': True, 'selected': True, 'deselected': False},\n  'd630': {'belongs': True, 'selected': False, 'deselected': True},\n  'd640': {'belongs': True, 'selected': True, 'deselected': False},\n  'd650': {'belongs': True, 'selected': False, 'deselected': True},\n  'd660': {'belongs': True, 'selected': True, 'deselected': False},\n  'b770': {'belongs': False, 'selected': False, 'deselected': True},\n  'b610': {'belongs': False, 'selected': True, 'deselected': False},\n  'e435': {'belongs': False, 'selected': False, 'deselected': True},\n  'd163': {'belongs': False, 'selected': True, 'deselected': False},\n  'b167': {'belongs': False, 'selected': True, 'deselected': False}},\n '3': {'d155': {'belongs': True, 'selected': True, 'deselected': False},\n  'd160': {'belongs': True, 'selected': True, 'deselected': False},\n  'd175': {'belongs': True, 'selected': True, 'deselected': False},\n  'e595': {'belongs': False, 'selected': True, 'deselected': False},\n  'e580': {'belongs': False, 'selected': True, 'deselected': False},\n  'b122': {'belongs': False, 'selected': True, 'deselected': False},\n  'b530': {'belongs': False, 'selected': False, 'deselected': True},\n  'e525': {'belongs': False, 'selected': True, 'deselected': False}},\n '4': {'d910': {'belongs': True, 'selected': False, 'deselected': True},\n  'd920': {'belongs': True, 'selected': False, 'deselected': True},\n  'd930': {'belongs': True, 'selected': True, 'deselected': False},\n  'd950': {'belongs': True, 'selected': True, 'deselected': False},\n  's720': {'belongs': False, 'selected': False, 'deselected': True},\n  'd445': {'belongs': False, 'selected': False, 'deselected': True},\n  'b340': {'belongs': False, 'selected': False, 'deselected': True},\n  'e530': {'belongs': False, 'selected': True, 'deselected': False},\n  'e235': {'belongs': False, 'selected': True, 'deselected': False}},\n '5': {'d166': {'belongs': False, 'selected': False, 'deselected': True},\n  's340': {'belongs': False, 'selected': True, 'deselected': False},\n  'd455': {'belongs': False, 'selected': False, 'deselected': True},\n  'e110': {'belongs': False, 'selected': True, 'deselected': False},\n  'b535': {'belongs': False, 'selected': False, 'deselected': True}},\n '6': {'d160': {'belongs': True, 'selected': True, 'deselected': False},\n  'd175': {'belongs': True, 'selected': False, 'deselected': True},\n  'd310': {'belongs': True, 'selected': True, 'deselected': False},\n  'd325': {'belongs': True, 'selected': False, 'deselected': True},\n  'd350': {'belongs': True, 'selected': True, 'deselected': False},\n  'd355': {'belongs': True, 'selected': False, 'deselected': True},\n  'e555': {'belongs': False, 'selected': True, 'deselected': False},\n  's720': {'belongs': False, 'selected': False, 'deselected': True},\n  'b122': {'belongs': False, 'selected': False, 'deselected': True},\n  'b450': {'belongs': False, 'selected': True, 'deselected': False},\n  's630': {'belongs': False, 'selected': False, 'deselected': True}},\n '7': {'d450': {'belongs': True, 'selected': True, 'deselected': False},\n  'd455': {'belongs': True, 'selected': False, 'deselected': True},\n  'd460': {'belongs': True, 'selected': True, 'deselected': False},\n  'd172': {'belongs': False, 'selected': False, 'deselected': True},\n  'e315': {'belongs': False, 'selected': True, 'deselected': False},\n  'e440': {'belongs': False, 'selected': True, 'deselected': False},\n  'd865': {'belongs': False, 'selected': False, 'deselected': True},\n  'd230': {'belongs': False, 'selected': True, 'deselected': False}},\n '8': {'d510': {'belongs': True, 'selected': False, 'deselected': True},\n  'd520': {'belongs': True, 'selected': True, 'deselected': False},\n  'd530': {'belongs': True, 'selected': False, 'deselected': True},\n  'b435': {'belongs': False, 'selected': True, 'deselected': False},\n  'b840': {'belongs': False, 'selected': True, 'deselected': False},\n  'b715': {'belongs': False, 'selected': False, 'deselected': True},\n  'e515': {'belongs': False, 'selected': False, 'deselected': True},\n  'e140': {'belongs': False, 'selected': False, 'deselected': True}},\n '9': {'d540': {'belongs': True, 'selected': False, 'deselected': True},\n  'e315': {'belongs': False, 'selected': False, 'deselected': True},\n  'e510': {'belongs': False, 'selected': True, 'deselected': False},\n  'e230': {'belongs': False, 'selected': False, 'deselected': True},\n  'd865': {'belongs': False, 'selected': True, 'deselected': False},\n  'e330': {'belongs': False, 'selected': False, 'deselected': True}},\n '10': {'d720': {'belongs': True, 'selected': False, 'deselected': True},\n  'd730': {'belongs': True, 'selected': True, 'deselected': False},\n  'd740': {'belongs': True, 'selected': False, 'deselected': True},\n  'e575': {'belongs': False, 'selected': False, 'deselected': True},\n  'e330': {'belongs': False, 'selected': True, 'deselected': False},\n  'e535': {'belongs': False, 'selected': True, 'deselected': False},\n  's210': {'belongs': False, 'selected': False, 'deselected': True},\n  'e335': {'belongs': False, 'selected': False, 'deselected': True}},\n '11': {'d750': {'belongs': True, 'selected': True, 'deselected': False},\n  'd770': {'belongs': True, 'selected': True, 'deselected': False},\n  'b735': {'belongs': False, 'selected': True, 'deselected': False},\n  'd850': {'belongs': False, 'selected': False, 'deselected': True},\n  'e435': {'belongs': False, 'selected': True, 'deselected': False},\n  's830': {'belongs': False, 'selected': False, 'deselected': True},\n  'b765': {'belongs': False, 'selected': True, 'deselected': False}},\n '12': {'d820': {'belongs': True, 'selected': True, 'deselected': False},\n  'd825': {'belongs': True, 'selected': True, 'deselected': False},\n  'd830': {'belongs': True, 'selected': True, 'deselected': False},\n  'd840': {'belongs': True, 'selected': False, 'deselected': True},\n  'd845': {'belongs': True, 'selected': True, 'deselected': False},\n  'd850': {'belongs': True, 'selected': True, 'deselected': False},\n  'd855': {'belongs': True, 'selected': False, 'deselected': True},\n  'd860': {'belongs': True, 'selected': False, 'deselected': True},\n  'd865': {'belongs': True, 'selected': True, 'deselected': False},\n  'd870': {'belongs': True, 'selected': True, 'deselected': False},\n  'b760': {'belongs': False, 'selected': True, 'deselected': False},\n  'e510': {'belongs': False, 'selected': True, 'deselected': False},\n  'b152': {'belongs': False, 'selected': False, 'deselected': True},\n  'b235': {'belongs': False, 'selected': True, 'deselected': False},\n  'e220': {'belongs': False, 'selected': True, 'deselected': False}}}"
     },
     "execution_count": 77,
     "metadata": {},
     "output_type": "execute_result"
    }
   ],
   "source": [
    "s"
   ],
   "metadata": {
    "collapsed": false,
    "ExecuteTime": {
     "end_time": "2023-11-12T08:35:40.089104Z",
     "start_time": "2023-11-12T08:35:40.081927Z"
    }
   }
  },
  {
   "cell_type": "code",
   "execution_count": 78,
   "outputs": [],
   "source": [
    "def check_survey(survey):\n",
    "    \"\"\"\n",
    "    Checks the survey\n",
    "    :param survey: the Whodas survey {\"1\":{'d415':{'belongs': True, 'selected': False, 'deselected': True},...}}\n",
    "    :return: number of total items, number of correct items, dict with erroneous items: {'1':['d415'...],..}\n",
    "    \"\"\"\n",
    "    all_count=0\n",
    "    hit_count=0\n",
    "    error_dict={}\n",
    "    for num,cont in survey.items():\n",
    "        a=[]\n",
    "        for k,v in cont.items():\n",
    "            if v['belongs']==v['selected']:\n",
    "                all_count+=1\n",
    "                hit_count+=1\n",
    "            else:\n",
    "                all_count+=1\n",
    "                a.append(k)\n",
    "        error_dict[num]=a\n",
    "\n",
    "    return all_count,hit_count,error_dict\n",
    "\n",
    "count,score,d=check_survey(s)\n",
    "\n"
   ],
   "metadata": {
    "collapsed": false,
    "ExecuteTime": {
     "end_time": "2023-11-12T08:35:41.106813Z",
     "start_time": "2023-11-12T08:35:41.101551Z"
    }
   }
  },
  {
   "cell_type": "code",
   "execution_count": 79,
   "outputs": [
    {
     "name": "stdout",
     "output_type": "stream",
     "text": [
      "You got 53 of 101, which is a score of 0.524752\n"
     ]
    }
   ],
   "source": [
    "print('You got %i of %i, which is a score of %f'%(score,count,score/count))"
   ],
   "metadata": {
    "collapsed": false,
    "ExecuteTime": {
     "end_time": "2023-11-12T08:35:43.672890Z",
     "start_time": "2023-11-12T08:35:43.667107Z"
    }
   }
  },
  {
   "cell_type": "code",
   "execution_count": 80,
   "outputs": [
    {
     "name": "stdout",
     "output_type": "stream",
     "text": [
      "{'1': ['d415', 'e150', 'b850'], '2': ['d630', 'd650', 'b610', 'd163', 'b167'], '3': ['e595', 'e580', 'b122', 'e525'], '4': ['d910', 'd920', 'e530', 'e235'], '5': ['s340', 'e110'], '6': ['d175', 'd325', 'd355', 'e555', 'b450'], '7': ['d455', 'e315', 'e440', 'd230'], '8': ['d510', 'd530', 'b435', 'b840'], '9': ['d540', 'e510', 'd865'], '10': ['d720', 'd740', 'e330', 'e535'], '11': ['b735', 'e435', 'b765'], '12': ['d840', 'd855', 'd860', 'b760', 'e510', 'b235', 'e220']}\n"
     ]
    }
   ],
   "source": [
    "print(d)"
   ],
   "metadata": {
    "collapsed": false,
    "ExecuteTime": {
     "end_time": "2023-11-12T08:35:49.399572Z",
     "start_time": "2023-11-12T08:35:49.394843Z"
    }
   }
  },
  {
   "cell_type": "code",
   "execution_count": null,
   "outputs": [],
   "source": [],
   "metadata": {
    "collapsed": false
   }
  }
 ],
 "metadata": {
  "kernelspec": {
   "display_name": "Python 3",
   "language": "python",
   "name": "python3"
  },
  "language_info": {
   "codemirror_mode": {
    "name": "ipython",
    "version": 2
   },
   "file_extension": ".py",
   "mimetype": "text/x-python",
   "name": "python",
   "nbconvert_exporter": "python",
   "pygments_lexer": "ipython2",
   "version": "2.7.6"
  }
 },
 "nbformat": 4,
 "nbformat_minor": 0
}
